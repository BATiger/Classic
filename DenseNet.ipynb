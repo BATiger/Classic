{
  "nbformat": 4,
  "nbformat_minor": 0,
  "metadata": {
    "colab": {
      "name": "DenseNet.ipynb",
      "provenance": [],
      "collapsed_sections": [],
      "authorship_tag": "ABX9TyOdjHR+KLKE0KPeC2xi6xPp",
      "include_colab_link": true
    },
    "kernelspec": {
      "name": "python3",
      "display_name": "Python 3"
    },
    "language_info": {
      "name": "python"
    },
    "accelerator": "GPU",
    "widgets": {
      "application/vnd.jupyter.widget-state+json": {
        "410a0781fc124216b59e1ff37e623faa": {
          "model_module": "@jupyter-widgets/controls",
          "model_name": "HBoxModel",
          "model_module_version": "1.5.0",
          "state": {
            "_view_name": "HBoxView",
            "_dom_classes": [],
            "_model_name": "HBoxModel",
            "_view_module": "@jupyter-widgets/controls",
            "_model_module_version": "1.5.0",
            "_view_count": null,
            "_view_module_version": "1.5.0",
            "box_style": "",
            "layout": "IPY_MODEL_f874d3926c9a4c63b52a3e42ccd387d7",
            "_model_module": "@jupyter-widgets/controls",
            "children": [
              "IPY_MODEL_42b98fb5218f45ccb5d9ae829b46ef92",
              "IPY_MODEL_7511099465964c528c060f4eede3295b",
              "IPY_MODEL_eddd13642f4a4bebac1fc9027ec7ea67"
            ]
          }
        },
        "f874d3926c9a4c63b52a3e42ccd387d7": {
          "model_module": "@jupyter-widgets/base",
          "model_name": "LayoutModel",
          "model_module_version": "1.2.0",
          "state": {
            "_view_name": "LayoutView",
            "grid_template_rows": null,
            "right": null,
            "justify_content": null,
            "_view_module": "@jupyter-widgets/base",
            "overflow": null,
            "_model_module_version": "1.2.0",
            "_view_count": null,
            "flex_flow": null,
            "width": null,
            "min_width": null,
            "border": null,
            "align_items": null,
            "bottom": null,
            "_model_module": "@jupyter-widgets/base",
            "top": null,
            "grid_column": null,
            "overflow_y": null,
            "overflow_x": null,
            "grid_auto_flow": null,
            "grid_area": null,
            "grid_template_columns": null,
            "flex": null,
            "_model_name": "LayoutModel",
            "justify_items": null,
            "grid_row": null,
            "max_height": null,
            "align_content": null,
            "visibility": null,
            "align_self": null,
            "height": null,
            "min_height": null,
            "padding": null,
            "grid_auto_rows": null,
            "grid_gap": null,
            "max_width": null,
            "order": null,
            "_view_module_version": "1.2.0",
            "grid_template_areas": null,
            "object_position": null,
            "object_fit": null,
            "grid_auto_columns": null,
            "margin": null,
            "display": null,
            "left": null
          }
        },
        "42b98fb5218f45ccb5d9ae829b46ef92": {
          "model_module": "@jupyter-widgets/controls",
          "model_name": "HTMLModel",
          "model_module_version": "1.5.0",
          "state": {
            "_view_name": "HTMLView",
            "style": "IPY_MODEL_337197fc3779451ead40bb1959477cc5",
            "_dom_classes": [],
            "description": "",
            "_model_name": "HTMLModel",
            "placeholder": "​",
            "_view_module": "@jupyter-widgets/controls",
            "_model_module_version": "1.5.0",
            "value": "",
            "_view_count": null,
            "_view_module_version": "1.5.0",
            "description_tooltip": null,
            "_model_module": "@jupyter-widgets/controls",
            "layout": "IPY_MODEL_155580b011ef4af5936ad42b70353757"
          }
        },
        "7511099465964c528c060f4eede3295b": {
          "model_module": "@jupyter-widgets/controls",
          "model_name": "FloatProgressModel",
          "model_module_version": "1.5.0",
          "state": {
            "_view_name": "ProgressView",
            "style": "IPY_MODEL_180d5a0377f24ff7aa6ad76f15166ff4",
            "_dom_classes": [],
            "description": "",
            "_model_name": "FloatProgressModel",
            "bar_style": "success",
            "max": 170498071,
            "_view_module": "@jupyter-widgets/controls",
            "_model_module_version": "1.5.0",
            "value": 170498071,
            "_view_count": null,
            "_view_module_version": "1.5.0",
            "orientation": "horizontal",
            "min": 0,
            "description_tooltip": null,
            "_model_module": "@jupyter-widgets/controls",
            "layout": "IPY_MODEL_a0d1b9dfaa4649dba777939abdf8c854"
          }
        },
        "eddd13642f4a4bebac1fc9027ec7ea67": {
          "model_module": "@jupyter-widgets/controls",
          "model_name": "HTMLModel",
          "model_module_version": "1.5.0",
          "state": {
            "_view_name": "HTMLView",
            "style": "IPY_MODEL_9ff0e2369f4b4e5da3a58e69a5be91e0",
            "_dom_classes": [],
            "description": "",
            "_model_name": "HTMLModel",
            "placeholder": "​",
            "_view_module": "@jupyter-widgets/controls",
            "_model_module_version": "1.5.0",
            "value": " 170499072/? [00:04&lt;00:00, 48503545.58it/s]",
            "_view_count": null,
            "_view_module_version": "1.5.0",
            "description_tooltip": null,
            "_model_module": "@jupyter-widgets/controls",
            "layout": "IPY_MODEL_d7a71ea3a45c45a2a5e1a3f0e888d526"
          }
        },
        "337197fc3779451ead40bb1959477cc5": {
          "model_module": "@jupyter-widgets/controls",
          "model_name": "DescriptionStyleModel",
          "model_module_version": "1.5.0",
          "state": {
            "_view_name": "StyleView",
            "_model_name": "DescriptionStyleModel",
            "description_width": "",
            "_view_module": "@jupyter-widgets/base",
            "_model_module_version": "1.5.0",
            "_view_count": null,
            "_view_module_version": "1.2.0",
            "_model_module": "@jupyter-widgets/controls"
          }
        },
        "155580b011ef4af5936ad42b70353757": {
          "model_module": "@jupyter-widgets/base",
          "model_name": "LayoutModel",
          "model_module_version": "1.2.0",
          "state": {
            "_view_name": "LayoutView",
            "grid_template_rows": null,
            "right": null,
            "justify_content": null,
            "_view_module": "@jupyter-widgets/base",
            "overflow": null,
            "_model_module_version": "1.2.0",
            "_view_count": null,
            "flex_flow": null,
            "width": null,
            "min_width": null,
            "border": null,
            "align_items": null,
            "bottom": null,
            "_model_module": "@jupyter-widgets/base",
            "top": null,
            "grid_column": null,
            "overflow_y": null,
            "overflow_x": null,
            "grid_auto_flow": null,
            "grid_area": null,
            "grid_template_columns": null,
            "flex": null,
            "_model_name": "LayoutModel",
            "justify_items": null,
            "grid_row": null,
            "max_height": null,
            "align_content": null,
            "visibility": null,
            "align_self": null,
            "height": null,
            "min_height": null,
            "padding": null,
            "grid_auto_rows": null,
            "grid_gap": null,
            "max_width": null,
            "order": null,
            "_view_module_version": "1.2.0",
            "grid_template_areas": null,
            "object_position": null,
            "object_fit": null,
            "grid_auto_columns": null,
            "margin": null,
            "display": null,
            "left": null
          }
        },
        "180d5a0377f24ff7aa6ad76f15166ff4": {
          "model_module": "@jupyter-widgets/controls",
          "model_name": "ProgressStyleModel",
          "model_module_version": "1.5.0",
          "state": {
            "_view_name": "StyleView",
            "_model_name": "ProgressStyleModel",
            "description_width": "",
            "_view_module": "@jupyter-widgets/base",
            "_model_module_version": "1.5.0",
            "_view_count": null,
            "_view_module_version": "1.2.0",
            "bar_color": null,
            "_model_module": "@jupyter-widgets/controls"
          }
        },
        "a0d1b9dfaa4649dba777939abdf8c854": {
          "model_module": "@jupyter-widgets/base",
          "model_name": "LayoutModel",
          "model_module_version": "1.2.0",
          "state": {
            "_view_name": "LayoutView",
            "grid_template_rows": null,
            "right": null,
            "justify_content": null,
            "_view_module": "@jupyter-widgets/base",
            "overflow": null,
            "_model_module_version": "1.2.0",
            "_view_count": null,
            "flex_flow": null,
            "width": null,
            "min_width": null,
            "border": null,
            "align_items": null,
            "bottom": null,
            "_model_module": "@jupyter-widgets/base",
            "top": null,
            "grid_column": null,
            "overflow_y": null,
            "overflow_x": null,
            "grid_auto_flow": null,
            "grid_area": null,
            "grid_template_columns": null,
            "flex": null,
            "_model_name": "LayoutModel",
            "justify_items": null,
            "grid_row": null,
            "max_height": null,
            "align_content": null,
            "visibility": null,
            "align_self": null,
            "height": null,
            "min_height": null,
            "padding": null,
            "grid_auto_rows": null,
            "grid_gap": null,
            "max_width": null,
            "order": null,
            "_view_module_version": "1.2.0",
            "grid_template_areas": null,
            "object_position": null,
            "object_fit": null,
            "grid_auto_columns": null,
            "margin": null,
            "display": null,
            "left": null
          }
        },
        "9ff0e2369f4b4e5da3a58e69a5be91e0": {
          "model_module": "@jupyter-widgets/controls",
          "model_name": "DescriptionStyleModel",
          "model_module_version": "1.5.0",
          "state": {
            "_view_name": "StyleView",
            "_model_name": "DescriptionStyleModel",
            "description_width": "",
            "_view_module": "@jupyter-widgets/base",
            "_model_module_version": "1.5.0",
            "_view_count": null,
            "_view_module_version": "1.2.0",
            "_model_module": "@jupyter-widgets/controls"
          }
        },
        "d7a71ea3a45c45a2a5e1a3f0e888d526": {
          "model_module": "@jupyter-widgets/base",
          "model_name": "LayoutModel",
          "model_module_version": "1.2.0",
          "state": {
            "_view_name": "LayoutView",
            "grid_template_rows": null,
            "right": null,
            "justify_content": null,
            "_view_module": "@jupyter-widgets/base",
            "overflow": null,
            "_model_module_version": "1.2.0",
            "_view_count": null,
            "flex_flow": null,
            "width": null,
            "min_width": null,
            "border": null,
            "align_items": null,
            "bottom": null,
            "_model_module": "@jupyter-widgets/base",
            "top": null,
            "grid_column": null,
            "overflow_y": null,
            "overflow_x": null,
            "grid_auto_flow": null,
            "grid_area": null,
            "grid_template_columns": null,
            "flex": null,
            "_model_name": "LayoutModel",
            "justify_items": null,
            "grid_row": null,
            "max_height": null,
            "align_content": null,
            "visibility": null,
            "align_self": null,
            "height": null,
            "min_height": null,
            "padding": null,
            "grid_auto_rows": null,
            "grid_gap": null,
            "max_width": null,
            "order": null,
            "_view_module_version": "1.2.0",
            "grid_template_areas": null,
            "object_position": null,
            "object_fit": null,
            "grid_auto_columns": null,
            "margin": null,
            "display": null,
            "left": null
          }
        }
      }
    }
  },
  "cells": [
    {
      "cell_type": "markdown",
      "metadata": {
        "id": "view-in-github",
        "colab_type": "text"
      },
      "source": [
        "<a href=\"https://colab.research.google.com/github/BATiger/Classic/blob/main/DenseNet.ipynb\" target=\"_parent\"><img src=\"https://colab.research.google.com/assets/colab-badge.svg\" alt=\"Open In Colab\"/></a>"
      ]
    },
    {
      "cell_type": "code",
      "metadata": {
        "id": "5n_bN85C6PXU"
      },
      "source": [
        "# from google.colab import drive\n",
        "# drive.mount('/content/drive')"
      ],
      "execution_count": null,
      "outputs": []
    },
    {
      "cell_type": "code",
      "metadata": {
        "id": "OpklOmrV7Bfh"
      },
      "source": [
        "import torch\n",
        "import torch.nn as nn\n",
        "import torch.optim as optim\n",
        "import math\n",
        "from torch.utils.data import Dataset, DataLoader\n",
        "from torchvision import datasets,transforms\n",
        "from torchvision.transforms import ToTensor\n",
        "import matplotlib.pyplot as plt"
      ],
      "execution_count": null,
      "outputs": []
    },
    {
      "cell_type": "code",
      "metadata": {
        "id": "nbTGbBnM7Bih"
      },
      "source": [
        "class DenseNet(nn.Module):\n",
        "    def __init__(self):\n",
        "        super(DenseNet, self).__init__()\n",
        "        \n",
        "    \n",
        "# 一个\n",
        "class Single(nn.Module):\n",
        "    def __init__(self, input_channel, output_channel, drop_out=0.2, type='A'):\n",
        "        super(Single, self).__init__()\n",
        "        if type == 'A':\n",
        "            self.block = nn.Sequential(\n",
        "                # 参数和channel数一样\n",
        "                nn.BatchNorm2d(input_channel),\n",
        "                nn.ReLU(),\n",
        "                nn.Conv2d(input_channel, output_channel, kernel_size=3,padding=1),\n",
        "                nn.Dropout(p=drop_out),\n",
        "            )\n",
        "\n",
        "        elif type == 'B':\n",
        "            self.block = nn.Sequential(\n",
        "                nn.BatchNorm2d(input_channel),\n",
        "                nn.ReLU(),\n",
        "                nn.Conv2d(input_channel, output_channel*4, kernel_size=1),\n",
        "\n",
        "                nn.BatchNorm2d(output_channel*4),\n",
        "                nn.ReLU(),\n",
        "                nn.Conv2d(output_channel*4, output_channel, kernel_size=3,padding=1),\n",
        "                nn.Dropout(p=drop_out)\n",
        "            )\n",
        "        else:\n",
        "            raise Exception('Runtime Error: Undefined Type')\n",
        "\n",
        "    def forward(self,x):\n",
        "        out = self.block(x)\n",
        "        return torch.cat([x,out],1)\n",
        "\n",
        "class Transition(nn.Module):\n",
        "    # here if the number of output channel is smaller than the input channel, we call it densenet-C\n",
        "    # bn + 1*1 conv + avg pooling \n",
        "    def __init__(self, input_channel, output_channel,drop_out=0):\n",
        "        super(Transition, self).__init__()\n",
        "        self.block = nn.Sequential(\n",
        "            nn.BatchNorm2d(input_channel),\n",
        "            nn.Conv2d(input_channel, output_channel, kernel_size=1),\n",
        "            nn.Dropout(drop_out),\n",
        "            nn.AvgPool2d(kernel_size=2),\n",
        "        )\n",
        "\n",
        "    def forward(self, x):\n",
        "        out = self.block(x)\n",
        "        return out\n",
        "\n",
        "class DenseBlock(nn.Module):\n",
        "    # output_channel = input_channel + (layers)*grow_rate\n",
        "    def __init__(self, num_layers,input_channel, grow_rate,drop_out=0.2,type='A'):\n",
        "        super(DenseBlock,self).__init__()\n",
        "        self.layer = self._make_layer(num_layers,input_channel, grow_rate,drop_out,type)\n",
        "    \n",
        "    def _make_layer(self,num_layers,input_channel,grow_rate,drop_out,type):\n",
        "        layers = []\n",
        "        for i in range(num_layers):\n",
        "            layers.append(Single(input_channel+i*grow_rate, grow_rate, drop_out, type))\n",
        "        return nn.Sequential(*layers)\n",
        "    \n",
        "    def forward(self, x):\n",
        "        return self.layer(x)\n",
        "\n",
        "# there are two parameters in the original paper: depth L and growth rates k\n",
        "# here we use a different depth which means the depth for one block in dense block\n",
        "# here we have 3 dense blocks\n",
        "# if you want to implement densenet for imagenet, add one more dense block as described in paper\n",
        "# feature-map in the three denseblock 32,32 -- 16,16 -- 8,8\n",
        "# reduction corresponds to the compression in the original paper\n",
        "class DenseNet3(nn.Module):\n",
        "    def __init__(self,depth,num_classes,growth_rate,reduction=0.5,type='A',drop_t=0, drop_d=0.2):\n",
        "        super(DenseNet3, self).__init__()\n",
        "        self.conv1 = nn.Conv2d(3,2*growth_rate,kernel_size=3,padding=1)\n",
        "        \n",
        "        self.block1 = DenseBlock(depth, 2*growth_rate,growth_rate,drop_d,type)\n",
        "        input_channel = int(2*growth_rate + depth*growth_rate)\n",
        "        self.trans1 = Transition(input_channel,int(math.floor(input_channel*reduction)),drop_t)\n",
        "        input_channel = int(math.floor(input_channel*reduction))\n",
        "        \n",
        "        self.block2 = DenseBlock(depth, input_channel,growth_rate,drop_d,type)\n",
        "        input_channel = int(input_channel+depth*growth_rate)\n",
        "        self.trans2 = Transition(input_channel,int(math.floor(input_channel*reduction)),drop_t)\n",
        "        input_channel = int(math.floor(input_channel*reduction))\n",
        "        \n",
        "        self.block3 = DenseBlock(depth, input_channel,growth_rate,drop_d,type)\n",
        "        input_channel = int(input_channel+depth*growth_rate)\n",
        "\n",
        "        self.bn1 = nn.BatchNorm2d(input_channel)\n",
        "        self.relu = nn.ReLU()\n",
        "        \n",
        "        self.pool = nn.AvgPool2d(kernel_size=8)\n",
        "        \n",
        "        self.fc = nn.Linear(input_channel, num_classes)\n",
        "        self.input_channel = input_channel\n",
        "    \n",
        "    def forward(self, x):\n",
        "        x = self.conv1(x)\n",
        "        x = self.trans1(self.block1(x))\n",
        "        x = self.trans2(self.block2(x))\n",
        "        x = (self.block3(x))\n",
        "        x = self.relu(self.bn1(x))\n",
        "        x = self.pool(x)\n",
        "        x = x.view(-1, self.input_channel)\n",
        "        return self.fc(x)"
      ],
      "execution_count": null,
      "outputs": []
    },
    {
      "cell_type": "code",
      "metadata": {
        "id": "g8Ehu1GP7BmJ",
        "colab": {
          "base_uri": "https://localhost:8080/"
        },
        "outputId": "b5041a4a-1105-4977-f4c3-98c2a56845e9"
      },
      "source": [
        "batch_size = 64\n",
        "epochs = 20\n",
        "learning_rate = 0.001\n",
        "GPU = True\n",
        "\n",
        "# choose device\n",
        "print(torch.cuda.is_available())\n",
        "if GPU:\n",
        "    device = torch.device(\"cuda\")"
      ],
      "execution_count": null,
      "outputs": [
        {
          "output_type": "stream",
          "name": "stdout",
          "text": [
            "True\n"
          ]
        }
      ]
    },
    {
      "cell_type": "code",
      "metadata": {
        "colab": {
          "base_uri": "https://localhost:8080/",
          "height": 101,
          "referenced_widgets": [
            "410a0781fc124216b59e1ff37e623faa",
            "f874d3926c9a4c63b52a3e42ccd387d7",
            "42b98fb5218f45ccb5d9ae829b46ef92",
            "7511099465964c528c060f4eede3295b",
            "eddd13642f4a4bebac1fc9027ec7ea67",
            "337197fc3779451ead40bb1959477cc5",
            "155580b011ef4af5936ad42b70353757",
            "180d5a0377f24ff7aa6ad76f15166ff4",
            "a0d1b9dfaa4649dba777939abdf8c854",
            "9ff0e2369f4b4e5da3a58e69a5be91e0",
            "d7a71ea3a45c45a2a5e1a3f0e888d526"
          ]
        },
        "id": "cia3-sg9V5s4",
        "outputId": "bcc17779-6dcd-4727-b121-8b6364b885db"
      },
      "source": [
        "transform = transforms.Compose([\n",
        "          transforms.ToTensor()\n",
        "])\n",
        "\n",
        "trainset = datasets.CIFAR10(root='data', train=True, download=True,transform=transform)\n",
        "train_loader = DataLoader(trainset, batch_size=batch_size, shuffle=True)\n",
        "\n",
        "testset = datasets.CIFAR10(root='data',train=False,download=True,transform=transform)\n",
        "test_loader = DataLoader(testset, batch_size=batch_size,shuffle=False)"
      ],
      "execution_count": null,
      "outputs": [
        {
          "output_type": "stream",
          "name": "stdout",
          "text": [
            "Downloading https://www.cs.toronto.edu/~kriz/cifar-10-python.tar.gz to data/cifar-10-python.tar.gz\n"
          ]
        },
        {
          "output_type": "display_data",
          "data": {
            "application/vnd.jupyter.widget-view+json": {
              "model_id": "410a0781fc124216b59e1ff37e623faa",
              "version_minor": 0,
              "version_major": 2
            },
            "text/plain": [
              "  0%|          | 0/170498071 [00:00<?, ?it/s]"
            ]
          },
          "metadata": {}
        },
        {
          "output_type": "stream",
          "name": "stdout",
          "text": [
            "Extracting data/cifar-10-python.tar.gz to data\n",
            "Files already downloaded and verified\n"
          ]
        }
      ]
    },
    {
      "cell_type": "code",
      "metadata": {
        "colab": {
          "base_uri": "https://localhost:8080/"
        },
        "id": "fWOZkKMcV5vf",
        "outputId": "775dc6f0-3994-4e95-e7fb-2f5db02d6b2f"
      },
      "source": [
        "# here we try dense block with depth 12, growth rate 12, desnet-C\n",
        "\n",
        "model = DenseNet3(12, 10, 12).to(device)\n",
        "optimizer = optim.Adam(model.parameters(),lr=learning_rate)\n",
        "criterion = nn.CrossEntropyLoss()\n",
        "\n",
        "\n",
        "for epoch in range(epochs):\n",
        "    count = 0\n",
        "    print('epoch {}'.format(epoch + 1))\n",
        "    # training------------------------------------------\n",
        "    train_loss = 0\n",
        "    train_acc = 0\n",
        "    for x,y in train_loader:\n",
        "        x,y = x.to(device), y.to(device)\n",
        "        output = model(x)\n",
        "        loss = criterion(output, y)\n",
        "\n",
        "        train_loss += loss.item()\n",
        "        # torch.max 返回 (1)最大值 (2)最大值的index 这里要的是index\n",
        "        pred = torch.max(output,1)[1]\n",
        "        \n",
        "        train_correct = (pred == y).sum()\n",
        "        train_acc += train_correct.item()\n",
        "        optimizer.zero_grad()\n",
        "        loss.backward()\n",
        "        optimizer.step()\n",
        "        count = count+1\n",
        "\n",
        "    # 打印每一个epoch的结果\n",
        "    print('Train Loss: {:.6f}, Acc: {:.6f}'.format(train_loss / count, train_acc / (len(trainset)))) "
      ],
      "execution_count": null,
      "outputs": [
        {
          "output_type": "stream",
          "name": "stdout",
          "text": [
            "epoch 1\n",
            "Train Loss: 1.405261, Acc: 0.481400\n",
            "epoch 2\n",
            "Train Loss: 1.010156, Acc: 0.637620\n",
            "epoch 3\n",
            "Train Loss: 0.870009, Acc: 0.689320\n",
            "epoch 4\n",
            "Train Loss: 0.771095, Acc: 0.726440\n",
            "epoch 5\n",
            "Train Loss: 0.693528, Acc: 0.754620\n",
            "epoch 6\n",
            "Train Loss: 0.620617, Acc: 0.783820\n",
            "epoch 7\n",
            "Train Loss: 0.570005, Acc: 0.800620\n",
            "epoch 8\n",
            "Train Loss: 0.517378, Acc: 0.818760\n",
            "epoch 9\n",
            "Train Loss: 0.486280, Acc: 0.829820\n",
            "epoch 10\n",
            "Train Loss: 0.455456, Acc: 0.841660\n",
            "epoch 11\n",
            "Train Loss: 0.422807, Acc: 0.851120\n",
            "epoch 12\n",
            "Train Loss: 0.401333, Acc: 0.859860\n",
            "epoch 13\n",
            "Train Loss: 0.376250, Acc: 0.868560\n",
            "epoch 14\n",
            "Train Loss: 0.357873, Acc: 0.874340\n",
            "epoch 15\n",
            "Train Loss: 0.339965, Acc: 0.882320\n",
            "epoch 16\n",
            "Train Loss: 0.318316, Acc: 0.888820\n",
            "epoch 17\n",
            "Train Loss: 0.301671, Acc: 0.894060\n",
            "epoch 18\n",
            "Train Loss: 0.287703, Acc: 0.898480\n",
            "epoch 19\n",
            "Train Loss: 0.277035, Acc: 0.900720\n",
            "epoch 20\n",
            "Train Loss: 0.261769, Acc: 0.907140\n"
          ]
        }
      ]
    },
    {
      "cell_type": "code",
      "metadata": {
        "colab": {
          "base_uri": "https://localhost:8080/"
        },
        "id": "zd95YYS9V5x9",
        "outputId": "4c56915c-6936-40bc-8313-4065477e1588"
      },
      "source": [
        "with torch.no_grad():\n",
        "    model.eval()\n",
        "    eval_loss = 0.\n",
        "    eval_acc = 0.\n",
        "\n",
        "    for x, y in test_loader:\n",
        "        x, y = x.to(device), y.to(device)\n",
        "        out = model(x)\n",
        "        loss =  criterion(out, y)\n",
        "        eval_loss += loss.item()\n",
        "        pred = torch.max(out, 1)[1]\n",
        "        num_correct = (pred == y).sum()\n",
        "        eval_acc += num_correct.item()\n",
        "    \n",
        "    print('test_loss: ', eval_loss/len(test_loader))\n",
        "    print('test accuracy: ', eval_acc/len(testset))\n",
        "    #0.40"
      ],
      "execution_count": null,
      "outputs": [
        {
          "output_type": "stream",
          "name": "stdout",
          "text": [
            "test_loss:  0.451122565444108\n",
            "test accuracy:  0.8551\n"
          ]
        }
      ]
    }
  ]
}