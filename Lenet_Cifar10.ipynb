{
  "nbformat": 4,
  "nbformat_minor": 0,
  "metadata": {
    "colab": {
      "name": "Lenet-Cifar10.ipynb",
      "provenance": [],
      "collapsed_sections": [],
      "authorship_tag": "ABX9TyNguBM+feYZUh6OIMNpiJM3",
      "include_colab_link": true
    },
    "kernelspec": {
      "name": "python3",
      "display_name": "Python 3"
    },
    "language_info": {
      "name": "python"
    },
    "accelerator": "GPU"
  },
  "cells": [
    {
      "cell_type": "markdown",
      "metadata": {
        "id": "view-in-github",
        "colab_type": "text"
      },
      "source": [
        "<a href=\"https://colab.research.google.com/github/BATiger/Classic/blob/main/Lenet_Cifar10.ipynb\" target=\"_parent\"><img src=\"https://colab.research.google.com/assets/colab-badge.svg\" alt=\"Open In Colab\"/></a>"
      ]
    },
    {
      "cell_type": "code",
      "metadata": {
        "id": "pPI5DBYQNyzL",
        "colab": {
          "base_uri": "https://localhost:8080/"
        },
        "outputId": "24256514-ad45-4cd5-c5a9-6732eb7164e3"
      },
      "source": [
        "from google.colab import drive\n",
        "drive.mount('/content/drive')"
      ],
      "execution_count": null,
      "outputs": [
        {
          "output_type": "stream",
          "name": "stdout",
          "text": [
            "Mounted at /content/drive\n"
          ]
        }
      ]
    },
    {
      "cell_type": "code",
      "metadata": {
        "id": "sjmUmedkuvlA"
      },
      "source": [
        "import torch\n",
        "import torch.nn as nn\n",
        "import torch.optim as optim\n",
        "\n",
        "from torch.utils.data import Dataset, DataLoader\n",
        "from torchvision import datasets,transforms\n",
        "from torchvision.transforms import ToTensor\n",
        "import matplotlib.pyplot as plt"
      ],
      "execution_count": null,
      "outputs": []
    },
    {
      "cell_type": "code",
      "metadata": {
        "id": "kK6Klo46uxQh"
      },
      "source": [
        "# average pooling\n",
        "class LeNet(nn.Module):\n",
        "    def __init__(self):\n",
        "        super(LeNet, self).__init__()\n",
        "        self.features = nn.Sequential(\n",
        "            nn.Conv2d(in_channels=3,out_channels=6,kernel_size=5),\n",
        "            nn.AvgPool2d(kernel_size=2),\n",
        "            nn.Conv2d(in_channels=6,out_channels=16,kernel_size=5),\n",
        "            nn.AvgPool2d(kernel_size=2),           \n",
        "        )\n",
        "        self.classifier = nn.Sequential(\n",
        "            nn.Linear(400,120),\n",
        "            nn.Linear(120,84),\n",
        "            nn.Linear(84,10),\n",
        "        )\n",
        "\n",
        "    def forward(self, x):\n",
        "        x = self.features(x)\n",
        "        x = torch.flatten(x,1)\n",
        "        x = self.classifier(x)\n",
        "        return x"
      ],
      "execution_count": null,
      "outputs": []
    },
    {
      "cell_type": "code",
      "metadata": {
        "colab": {
          "base_uri": "https://localhost:8080/"
        },
        "id": "7jwv25lK2W4J",
        "outputId": "181722ec-7b5d-4964-b187-a1a141eed696"
      },
      "source": [
        "batch_size = 32\n",
        "epochs = 20\n",
        "learning_rate = 0.0002\n",
        "GPU = True\n",
        "\n",
        "# choose device\n",
        "print(torch.cuda.is_available())\n",
        "if GPU:\n",
        "    device = torch.device(\"cuda\")"
      ],
      "execution_count": null,
      "outputs": [
        {
          "output_type": "stream",
          "name": "stdout",
          "text": [
            "True\n"
          ]
        }
      ]
    },
    {
      "cell_type": "code",
      "metadata": {
        "colab": {
          "base_uri": "https://localhost:8080/"
        },
        "id": "mmZbqvScuxSx",
        "outputId": "dc5086f7-bb98-4c14-d0bb-5a949ce63d0b"
      },
      "source": [
        "transform = transforms.Compose([\n",
        "          transforms.ToTensor()\n",
        "])\n",
        "\n",
        "trainset = datasets.CIFAR10(root='data', train=True, download=True,transform=transform)\n",
        "train_loader = DataLoader(trainset, batch_size=batch_size, shuffle=True)\n",
        "\n",
        "testset = datasets.CIFAR10(root='data',train=False,download=True,transform=transform)\n",
        "test_loader = DataLoader(testset, batch_size=batch_size,shuffle=False)"
      ],
      "execution_count": null,
      "outputs": [
        {
          "output_type": "stream",
          "name": "stdout",
          "text": [
            "Files already downloaded and verified\n",
            "Files already downloaded and verified\n"
          ]
        }
      ]
    },
    {
      "cell_type": "code",
      "metadata": {
        "colab": {
          "base_uri": "https://localhost:8080/"
        },
        "id": "RRhF9DyTuxVE",
        "outputId": "b37b0223-e90a-4797-ffab-a4cd99428b57"
      },
      "source": [
        "model = LeNet().to(device)\n",
        "optimizer = optim.Adam(model.parameters(),lr=learning_rate)\n",
        "criterion = nn.CrossEntropyLoss()\n",
        "\n",
        "for epoch in range(epochs):\n",
        "    count = 0\n",
        "    print('epoch {}'.format(epoch + 1))\n",
        "    # training------------------------------------------\n",
        "    train_loss = 0\n",
        "    train_acc = 0\n",
        "    for x,y in train_loader:\n",
        "        x,y = x.to(device), y.to(device)\n",
        "        output = model(x)\n",
        "        loss = criterion(output, y)\n",
        "\n",
        "        train_loss += loss.item()\n",
        "        # torch.max 返回 (1)最大值 (2)最大值的index 这里要的是index\n",
        "        pred = torch.max(output,1)[1]\n",
        "        \n",
        "        train_correct = (pred == y).sum()\n",
        "        train_acc += train_correct.item()\n",
        "        optimizer.zero_grad()\n",
        "        loss.backward()\n",
        "        optimizer.step()\n",
        "        count = count+1\n",
        "\n",
        "    # 打印每一个epoch的结果\n",
        "    print('Train Loss: {:.6f}, Acc: {:.6f}'.format(train_loss / count, train_acc / (len(trainset)))) "
      ],
      "execution_count": null,
      "outputs": [
        {
          "output_type": "stream",
          "name": "stdout",
          "text": [
            "epoch 1\n",
            "Train Loss: 1.924096, Acc: 0.312860\n",
            "epoch 2\n",
            "Train Loss: 1.805974, Acc: 0.369400\n",
            "epoch 3\n",
            "Train Loss: 1.777875, Acc: 0.382700\n",
            "epoch 4\n",
            "Train Loss: 1.762956, Acc: 0.390860\n",
            "epoch 5\n",
            "Train Loss: 1.750757, Acc: 0.395700\n",
            "epoch 6\n",
            "Train Loss: 1.744008, Acc: 0.399100\n",
            "epoch 7\n",
            "Train Loss: 1.739175, Acc: 0.403260\n",
            "epoch 8\n",
            "Train Loss: 1.733063, Acc: 0.408000\n",
            "epoch 9\n",
            "Train Loss: 1.729764, Acc: 0.409100\n",
            "epoch 10\n",
            "Train Loss: 1.727329, Acc: 0.408560\n",
            "epoch 11\n",
            "Train Loss: 1.725031, Acc: 0.410140\n",
            "epoch 12\n",
            "Train Loss: 1.722090, Acc: 0.413300\n",
            "epoch 13\n",
            "Train Loss: 1.720913, Acc: 0.412500\n",
            "epoch 14\n",
            "Train Loss: 1.718369, Acc: 0.414440\n",
            "epoch 15\n",
            "Train Loss: 1.717522, Acc: 0.415120\n",
            "epoch 16\n",
            "Train Loss: 1.715857, Acc: 0.415600\n",
            "epoch 17\n",
            "Train Loss: 1.713880, Acc: 0.415080\n",
            "epoch 18\n",
            "Train Loss: 1.713001, Acc: 0.416180\n",
            "epoch 19\n",
            "Train Loss: 1.711563, Acc: 0.416840\n",
            "epoch 20\n",
            "Train Loss: 1.710439, Acc: 0.417280\n"
          ]
        }
      ]
    },
    {
      "cell_type": "code",
      "metadata": {
        "colab": {
          "base_uri": "https://localhost:8080/"
        },
        "id": "3X7wFR_N4tZF",
        "outputId": "fec119fb-f2a0-44eb-db98-720d1e6ccb25"
      },
      "source": [
        "with torch.no_grad():\n",
        "    model.eval()\n",
        "    eval_loss = 0.\n",
        "    eval_acc = 0.\n",
        "\n",
        "    for x, y in test_loader:\n",
        "        x, y = x.to(device), y.to(device)\n",
        "        out = model(x)\n",
        "        loss =  criterion(out, y)\n",
        "        eval_loss += loss.item()\n",
        "        pred = torch.max(out, 1)[1]\n",
        "        num_correct = (pred == y).sum()\n",
        "        eval_acc += num_correct.item()\n",
        "    \n",
        "    print('test_loss: ', eval_loss/len(test_loader))\n",
        "    print('test accuracy: ', eval_acc/len(testset))\n",
        "    #0.40"
      ],
      "execution_count": null,
      "outputs": [
        {
          "output_type": "stream",
          "name": "stdout",
          "text": [
            "test_loss:  1.7165622539794483\n",
            "test accuracy:  0.4122\n"
          ]
        }
      ]
    },
    {
      "cell_type": "markdown",
      "metadata": {
        "id": "c8-urGva9zx6"
      },
      "source": [
        "结果发现：\n",
        "1.需要尽量小的learning rate\n",
        "2.Lenet能力并不足以处理RGB图像\n",
        "3.小的batch_size可能更好（我猜测是因为class的数量比较小"
      ]
    }
  ]
}