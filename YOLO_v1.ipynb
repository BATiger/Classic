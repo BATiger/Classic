{
  "nbformat": 4,
  "nbformat_minor": 0,
  "metadata": {
    "colab": {
      "name": "YOLO_v1.ipynb",
      "provenance": [],
      "collapsed_sections": [],
      "authorship_tag": "ABX9TyMfnGPoFsAtn7SCWZVhESOH",
      "include_colab_link": true
    },
    "kernelspec": {
      "name": "python3",
      "display_name": "Python 3"
    },
    "language_info": {
      "name": "python"
    }
  },
  "cells": [
    {
      "cell_type": "markdown",
      "metadata": {
        "id": "view-in-github",
        "colab_type": "text"
      },
      "source": [
        "<a href=\"https://colab.research.google.com/github/BATiger/Classic/blob/main/YOLO_v1.ipynb\" target=\"_parent\"><img src=\"https://colab.research.google.com/assets/colab-badge.svg\" alt=\"Open In Colab\"/></a>"
      ]
    },
    {
      "cell_type": "code",
      "execution_count": null,
      "metadata": {
        "id": "xeHwm3_RKg_w",
        "colab": {
          "base_uri": "https://localhost:8080/"
        },
        "outputId": "12d3a63b-b066-4db1-f2c4-cafab5274cff"
      },
      "outputs": [
        {
          "output_type": "stream",
          "name": "stdout",
          "text": [
            "[5751. 3111. 3213. 9047. 3078.]\n",
            "[1 0 2 3 4]\n",
            "[100.  20. 200.  20.]\n",
            "[200.]\n",
            "[]\n"
          ]
        },
        {
          "output_type": "execute_result",
          "data": {
            "text/plain": [
              "[1, 0, 3]"
            ]
          },
          "metadata": {},
          "execution_count": 5
        }
      ],
      "source": [
        "#Non-maximum suppression algorithm\n",
        "import numpy as np\n",
        "\n",
        "def py_cpu_nms(dets, thresh):\n",
        "    \"\"\"Pure Python NMS baseline.\"\"\"\n",
        "    #x1、y1、x2、y2、以及score赋值\n",
        "    x1 = dets[:, 0]                     # pred bbox top_x\n",
        "    y1 = dets[:, 1]                     # pred bbox top_y\n",
        "    x2 = dets[:, 2]                     # pred bbox bottom_x\n",
        "    y2 = dets[:, 3]                     # pred bbox bottom_y\n",
        "    scores = dets[:, 4]              # pred bbox cls score\n",
        "    #每一个检测框的面积\n",
        "    areas = (x2 - x1 + 1) * (y2 - y1 + 1)    # pred bbox areas\n",
        "    print(areas)\n",
        "    # 从大到小\n",
        "    order = scores.argsort()[::-1]              # 对pred bbox按score做降序排序，对应step-2\n",
        "    print(order)\n",
        "    #保留的结果框集合\n",
        "    keep = []    \n",
        "    while order.size > 0:\n",
        "        i = order[0]          # top-1 score bbox\n",
        "        keep.append(i)   #保留该类剩余box中得分最高的一个\n",
        "        #得到相交区域,左上及右下\n",
        "        xx1 = np.maximum(x1[i], x1[order[1:]])   # top-1 bbox（score最大）与order中剩余bbox计算NMS\n",
        "        print(xx1)\n",
        "        yy1 = np.maximum(y1[i], y1[order[1:]])\n",
        "        xx2 = np.minimum(x2[i], x2[order[1:]])\n",
        "        yy2 = np.minimum(y2[i], y2[order[1:]])\n",
        "        \n",
        "        #计算相交的面积,不重叠时面积为0\n",
        "        w = np.maximum(0.0, xx2 - xx1 + 1)\n",
        "        h = np.maximum(0.0, yy2 - yy1 + 1)\n",
        "        inter = w * h\n",
        "        #计算IoU：重叠面积 /（面积1+面积2-重叠面积）\n",
        "        ovr = inter / (areas[i] + areas[order[1:]] - inter)\n",
        "        #保留IoU小于阈值的box\n",
        "        inds = np.where(ovr <= thresh)[0]     # 这个操作可以对代码断点调试理解下，结合step-3，我们希望剔除所有与当前top-1 bbox IoU > thresh的冗余bbox，那么保留下来的bbox，自然就是ovr <= thresh的非冗余bbox，其inds保留下来，作进一步筛选\n",
        "        #因为ovr数组的长度比order数组少一个，所以这里要将所有下标后移一位\n",
        "        order = order[inds + 1]   # 保留有效bbox，就是这轮NMS未被抑制掉的幸运儿，为什么 + 1？因为ind = 0就是这轮NMS的top-1，剩余有效bbox在IoU计算中与top-1做的计算，inds对应回原数组，自然要做 +1 的映射，接下来就是step-4的循环\n",
        "\n",
        "    return keep    # 最终NMS结果返回\n",
        "\n",
        "dets = np.array([[100,120,170,200,0.98],\n",
        "                  [20,40,80,90,0.99],\n",
        "                  [20,38,82,88,0.96],\n",
        "                  [200,380,282,488,0.9],\n",
        "                  [19,38,75,91, 0.8]])\n",
        "\n",
        "py_cpu_nms(dets, 0.5)\n"
      ]
    },
    {
      "cell_type": "code",
      "source": [
        ""
      ],
      "metadata": {
        "id": "NIEWP2ptr9WD"
      },
      "execution_count": null,
      "outputs": []
    }
  ]
}